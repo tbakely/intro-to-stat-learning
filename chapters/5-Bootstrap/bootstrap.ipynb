{
 "cells": [
  {
   "cell_type": "code",
   "execution_count": null,
   "metadata": {},
   "outputs": [],
   "source": [
    "######################################### NOTES ###############################################\n",
    "# * Cross Validation\n",
    "#   * Data is split into k folds and then is used to train a model k times \n",
    "#   * On each iteration, k-1 of those folds are used for training and the remaining fold \n",
    "#     is the test set. The cross validation is run until each fold has been used as the test\n",
    "#     set.\n",
    "#   * The cross validation score is the average score of each of the model results (r2/explained\n",
    "#     variance for regression, accuracy for classification)\n",
    "#   * Best practice is to use 5 or 10 folds for optimal score\n",
    "#   * However, if the learning curve is steep for the training size in question, then 5- or \n",
    "#     10- fold cross validation can overestimate the generalization error.\n",
    "# * Boostrap Statistics\n",
    "#   * To get a bootstrap statistic, a data set is resampled k times where k\n",
    "#     is the number of data points (len(x)). Then you take the statistic of that resampled\n",
    "#     data.\n",
    "#   * Running the bootstrap a large number of times is better as it will more closely reflect\n",
    "#     the test statistic. If you plot the list of resulting statistics from those boostraps, \n",
    "#     it will be in the shape of a Gaussian distibution\n",
    "#\n",
    "################################################################################################"
   ]
  },
  {
   "cell_type": "code",
   "execution_count": 1,
   "metadata": {},
   "outputs": [],
   "source": [
    "# Import packages\n",
    "\n",
    "import psycopg2\n",
    "import pandas as pd\n",
    "import seaborn as sns\n",
    "import matplotlib.pyplot as plt\n",
    "import warnings\n",
    "import numpy as np\n",
    "warnings.filterwarnings(\"ignore\")\n",
    "\n",
    "pd.set_option(\"display.max_columns\", None)"
   ]
  },
  {
   "cell_type": "code",
   "execution_count": 3,
   "metadata": {},
   "outputs": [],
   "source": [
    "# Configure SQL\n",
    "\n",
    "def execute_statement(sql: str):\n",
    "    with psycopg2.connect(host=\"localhost\", database=\"thefantasybot\", user=\"tbakely\") as conn:\n",
    "         df = pd.read_sql(sql, conn)\n",
    "         return df\n",
    "\n",
    "weekly_sql = \"\"\"\n",
    "select\n",
    "\twd.player_id,\n",
    "\twd.player_name,\n",
    "\tposition,\n",
    "\trecent_team,\n",
    "\twd.season,\n",
    "\twd.week,\n",
    "\tcarries,\n",
    "\trushing_yards,\n",
    "\trushing_tds,\n",
    "\trushing_fumbles,\n",
    "\trushing_fumbles_lost,\n",
    "\trushing_first_downs,\n",
    "\trushing_epa,\n",
    "\t--efficiency,\n",
    "\t--percent_attempts_gte_eight_defenders,\n",
    "\t--avg_time_to_los,\n",
    "\t--rush_yards_over_expected,\n",
    "\t--avg_rush_yards,\n",
    "\t--rush_yards_over_expected_per_att,\n",
    "\t--rush_pct_over_expected,\n",
    "\twd.receptions,\n",
    "\twd.targets,\n",
    "\treceiving_yards,\n",
    "\treceiving_tds,\n",
    "\treceiving_fumbles,\n",
    "\treceiving_fumbles_lost,\n",
    "\treceiving_air_yards,\n",
    "\treceiving_yards_after_catch,\n",
    "\treceiving_first_downs,\n",
    "\treceiving_epa,\n",
    "\tracr,\n",
    "\ttarget_share,\n",
    "\tair_yards_share,\n",
    "\twopr,\n",
    "\toffense_snaps,\n",
    "\toffense_pct,\n",
    "    redzone.redzone,\n",
    "\t(carries + wd.targets) as total_usage,\n",
    "    wd.fantasy_points,\n",
    "    wd.fantasy_points_ppr,\n",
    "\troof,\n",
    "\tsurface,\n",
    "\tweather_hazards,\n",
    "\ttemp,\n",
    "\thumidity,\n",
    "\twind_speed\n",
    "from archive_data.weekly_data wd\n",
    "left join archive_data.offense_snap_counts os\n",
    "on wd.player_id = os.id\n",
    "and wd.season = os.season\n",
    "and wd.week = os.week\n",
    "left join archive_data.ngs_rushing_data ngsr\n",
    "on wd.player_id = ngsr.player_gsis_id\n",
    "and wd.season = ngsr.season\n",
    "and wd.week = ngsr.week\n",
    "left join archive_data.ngs_receiving_data ngsrr\n",
    "on wd.player_id = ngsrr.player_gsis_id\n",
    "and wd.season = ngsrr.season\n",
    "and wd.week = ngsrr.week\n",
    "left join (select distinct rusher_player_id, game_id, season, week from archive_data.full_pbp) game_id\n",
    "on wd.player_id = game_id.rusher_player_id\n",
    "and wd.season = game_id.season\n",
    "and wd.week = game_id.week\n",
    "left join archive_data.game_data\n",
    "on game_data.game_id = game_id.game_id\n",
    "left join archive_data.redzone_snaps redzone\n",
    "on wd.player_id = redzone.player_id\n",
    "and wd.season = redzone.season\n",
    "and wd.week = redzone.week\n",
    "where position in ('WR', 'RB', 'TE')\n",
    "and wd.season between 2016 and 2022;\n",
    "\"\"\"\n",
    "\n",
    "# Load weekly data from 2016-2022; Modify above query as needed\n",
    "weekly = execute_statement(weekly_sql)\n",
    "\n",
    "# Dealing with null values\n",
    "weekly1 = weekly.copy()\n",
    "weekly1.dropna(subset=[\"player_name\"], inplace=True)\n",
    "weekly1.dropna(subset=[\"offense_snaps\"], inplace=True)\n",
    "\n",
    "fill_na_cols = [\n",
    "    \"rushing_epa\",\n",
    "    \"receiving_epa\",\n",
    "    \"racr\",\n",
    "    \"target_share\",\n",
    "    \"air_yards_share\",\n",
    "    \"wopr\",\n",
    "    \"redzone\",\n",
    "]\n",
    "\n",
    "weather_cols = [\n",
    "    \"roof\",\n",
    "    \"surface\",\n",
    "    \"weather_hazards\",\n",
    "    \"temp\",\n",
    "    \"humidity\",\n",
    "    \"wind_speed\",\n",
    "]\n",
    "\n",
    "for col in fill_na_cols:\n",
    "    weekly1[col] = weekly[col].fillna(0)\n",
    "\n",
    "weekly1 = weekly1[[col for col in weekly1.columns if col not in weather_cols]]\n",
    "weekly1[\"week\"] = weekly1[\"week\"].astype(str)\n",
    "weekly1[\"season\"] = weekly1[\"season\"].astype(str)"
   ]
  },
  {
   "cell_type": "code",
   "execution_count": 4,
   "metadata": {},
   "outputs": [
    {
     "data": {
      "text/html": [
       "<div>\n",
       "<style scoped>\n",
       "    .dataframe tbody tr th:only-of-type {\n",
       "        vertical-align: middle;\n",
       "    }\n",
       "\n",
       "    .dataframe tbody tr th {\n",
       "        vertical-align: top;\n",
       "    }\n",
       "\n",
       "    .dataframe thead th {\n",
       "        text-align: right;\n",
       "    }\n",
       "</style>\n",
       "<table border=\"1\" class=\"dataframe\">\n",
       "  <thead>\n",
       "    <tr style=\"text-align: right;\">\n",
       "      <th></th>\n",
       "      <th>total_epa</th>\n",
       "      <th>total_first_downs</th>\n",
       "      <th>target_share</th>\n",
       "      <th>redzone</th>\n",
       "      <th>offense_pct</th>\n",
       "      <th>total_usage</th>\n",
       "    </tr>\n",
       "  </thead>\n",
       "  <tbody>\n",
       "    <tr>\n",
       "      <th>14</th>\n",
       "      <td>-0.258469</td>\n",
       "      <td>0.0</td>\n",
       "      <td>0.111111</td>\n",
       "      <td>0.0</td>\n",
       "      <td>0.66</td>\n",
       "      <td>4</td>\n",
       "    </tr>\n",
       "    <tr>\n",
       "      <th>15</th>\n",
       "      <td>0.662646</td>\n",
       "      <td>2.0</td>\n",
       "      <td>0.200000</td>\n",
       "      <td>3.0</td>\n",
       "      <td>0.53</td>\n",
       "      <td>5</td>\n",
       "    </tr>\n",
       "    <tr>\n",
       "      <th>16</th>\n",
       "      <td>-0.809390</td>\n",
       "      <td>2.0</td>\n",
       "      <td>0.166667</td>\n",
       "      <td>1.0</td>\n",
       "      <td>0.35</td>\n",
       "      <td>5</td>\n",
       "    </tr>\n",
       "    <tr>\n",
       "      <th>17</th>\n",
       "      <td>-0.385813</td>\n",
       "      <td>2.0</td>\n",
       "      <td>0.206897</td>\n",
       "      <td>0.0</td>\n",
       "      <td>0.47</td>\n",
       "      <td>6</td>\n",
       "    </tr>\n",
       "    <tr>\n",
       "      <th>18</th>\n",
       "      <td>1.970081</td>\n",
       "      <td>3.0</td>\n",
       "      <td>0.227273</td>\n",
       "      <td>3.0</td>\n",
       "      <td>0.51</td>\n",
       "      <td>10</td>\n",
       "    </tr>\n",
       "  </tbody>\n",
       "</table>\n",
       "</div>"
      ],
      "text/plain": [
       "    total_epa  total_first_downs  target_share  redzone  offense_pct  \\\n",
       "14  -0.258469                0.0      0.111111      0.0         0.66   \n",
       "15   0.662646                2.0      0.200000      3.0         0.53   \n",
       "16  -0.809390                2.0      0.166667      1.0         0.35   \n",
       "17  -0.385813                2.0      0.206897      0.0         0.47   \n",
       "18   1.970081                3.0      0.227273      3.0         0.51   \n",
       "\n",
       "    total_usage  \n",
       "14            4  \n",
       "15            5  \n",
       "16            5  \n",
       "17            6  \n",
       "18           10  "
      ]
     },
     "execution_count": 4,
     "metadata": {},
     "output_type": "execute_result"
    }
   ],
   "source": [
    "weekly1[\"scored\"] = np.where((weekly1[\"receiving_tds\"] > 0) | (weekly1[\"rushing_tds\"] > 0), 1, 0)\n",
    "weekly1[\"multi_score\"] = np.where(weekly1[\"receiving_tds\"] + weekly1[\"rushing_tds\"] > 1, 1, 0)\n",
    "weekly1[\"total_yards\"] = weekly1[\"rushing_yards\"] + weekly1[\"receiving_yards\"]\n",
    "weekly1[\"total_epa\"] = weekly1[\"rushing_epa\"] + weekly1[\"receiving_epa\"]\n",
    "weekly1[\"total_first_downs\"] = weekly1[\"rushing_first_downs\"] + weekly1[\"receiving_first_downs\"]\n",
    "\n",
    "\n",
    "try_columns = [\"total_epa\", \"total_first_downs\", \"target_share\", \"redzone\", \"offense_pct\", \"total_usage\"]\n",
    "\n",
    "\n",
    "model_data = weekly1[try_columns]\n",
    "model_data.head()"
   ]
  },
  {
   "cell_type": "code",
   "execution_count": 23,
   "metadata": {},
   "outputs": [
    {
     "name": "stdout",
     "output_type": "stream",
     "text": [
      "Array:\n",
      "[0.8255814  0.82848837 0.82390953 0.84006462 0.85266559 0.84458805\n",
      " 0.83489499 0.82778675 0.84749596 0.8361874 ]\n",
      "Avg Score:\n",
      "0.8361662659202764\n"
     ]
    }
   ],
   "source": [
    "from sklearn.discriminant_analysis import LinearDiscriminantAnalysis\n",
    "from sklearn.model_selection import train_test_split\n",
    "from sklearn.model_selection import cross_val_score\n",
    "\n",
    "model = LinearDiscriminantAnalysis()\n",
    "\n",
    "y = weekly1[[\"scored\"]].values\n",
    "X = model_data.values\n",
    "folds = 10\n",
    "\n",
    "cross_val_array = cross_val_score(model, X, y, cv=folds)\n",
    "avg_score = np.mean(cross_val_array)\n",
    "print(f\"Array:\\n{cross_val_array}\\nAvg Score:\\n{avg_score}\")"
   ]
  },
  {
   "cell_type": "code",
   "execution_count": 36,
   "metadata": {},
   "outputs": [
    {
     "name": "stdout",
     "output_type": "stream",
     "text": [
      "Array:\n",
      "[0.8255814  0.82848837 0.82390953 0.84006462 0.85266559 0.84458805\n",
      " 0.83489499 0.82778675 0.84749596 0.8361874 ]\n",
      "Avg Score:\n",
      "0.8361662659202764\n"
     ]
    },
    {
     "data": {
      "text/plain": [
       "array([0.8255814 , 0.82848837, 0.82390953, 0.84006462, 0.85266559,\n",
       "       0.84458805, 0.83489499, 0.82778675, 0.84749596, 0.8361874 ])"
      ]
     },
     "execution_count": 36,
     "metadata": {},
     "output_type": "execute_result"
    }
   ],
   "source": [
    "# Use the following link for predefined scoring methods to pass into the scoring argument in cross_validate\n",
    "# https://scikit-learn.org/stable/modules/model_evaluation.html#the-scoring-parameter-defining-model-evaluation-rules\n",
    "\n",
    "from sklearn.model_selection import cross_validate\n",
    "from sklearn.metrics import accuracy_score, make_scorer\n",
    "\n",
    "# cross_validation = cross_val_score(model, X, y, cv=folds, scoring=make_scorer(accuracy_score))\n",
    "cross_validation = cross_val_score(model, X, y, cv=folds, scoring=\"accuracy\")\n",
    "avg_score = np.mean(cross_validation)\n",
    "\n",
    "# Can use cross_validate to pass in multiple scoring methods when \n",
    "# cross_validation = cross_validate(model, X, y, cv=folds, scoring=[\"accuracy\", \"recall\"])\n",
    "# cross_val_array = cross_validation[\"test_score\"]\n",
    "# avg_score = np.mean(cross_val_array)\n",
    "\n",
    "print(f\"Array:\\n{cross_validation}\\nAvg Score:\\n{avg_score}\")"
   ]
  },
  {
   "cell_type": "code",
   "execution_count": 41,
   "metadata": {},
   "outputs": [
    {
     "data": {
      "text/plain": [
       "array([0.83448202, 0.83814344, 0.83706655, 0.83189748, 0.83868189])"
      ]
     },
     "execution_count": 41,
     "metadata": {},
     "output_type": "execute_result"
    }
   ],
   "source": [
    "# Cross validation iterator\n",
    "from sklearn.model_selection import ShuffleSplit\n",
    "\n",
    "cv = ShuffleSplit(n_splits=5, test_size=0.3, random_state=0)\n",
    "cross_val_score(model, X, y, cv=cv, scoring=\"accuracy\")"
   ]
  },
  {
   "cell_type": "code",
   "execution_count": 83,
   "metadata": {},
   "outputs": [],
   "source": [
    "# Bootstrap methods\n",
    "from sklearn.utils import resample\n",
    "\n",
    "# Target share array from model data\n",
    "target_share = X[:, 2]\n",
    "\n",
    "# Resampling the target share\n",
    "def bootstrap_stat(array: np.array, n_bootstraps: int, statfunc, **kwargs):\n",
    "    results = []\n",
    "    for k in range(n_bootstraps):\n",
    "        results.append(statfunc(resample(array, **kwargs)))\n",
    "    return results"
   ]
  },
  {
   "cell_type": "code",
   "execution_count": 96,
   "metadata": {},
   "outputs": [
    {
     "name": "stdout",
     "output_type": "stream",
     "text": [
      "Result: 0.119805429363125\n",
      "Real Result: 0.11772378934459808\n",
      "Std Dev: 0.015702936037121504\n"
     ]
    },
    {
     "data": {
      "image/png": "[encoded data removed]",
      "text/plain": [
       "<Figure size 500x500 with 1 Axes>"
      ]
     },
     "metadata": {},
     "output_type": "display_data"
    }
   ],
   "source": [
    "bootstrap_results = bootstrap_stat(array=target_share, n_bootstraps=400, statfunc=np.mean, n_samples=40, replace=True)\n",
    "print(f\"Result: {np.mean(bootstrap_results)}\\nReal Result: {np.mean(target_share)}\\nStd Dev: {np.std(bootstrap_results)}\")\n",
    "sns.displot(bootstrap_results)\n",
    "plt.show()"
   ]
  },
  {
   "cell_type": "code",
   "execution_count": null,
   "metadata": {},
   "outputs": [],
   "source": []
  }
 ],
 "metadata": {
  "kernelspec": {
   "display_name": ".venv",
   "language": "python",
   "name": "python3"
  },
  "language_info": {
   "codemirror_mode": {
    "name": "ipython",
    "version": 3
   },
   "file_extension": ".py",
   "mimetype": "text/x-python",
   "name": "python",
   "nbconvert_exporter": "python",
   "pygments_lexer": "ipython3",
   "version": "3.11.0"
  },
  "orig_nbformat": 4,
  "vscode": {
   "interpreter": {
    "hash": "c2e14bd43ff3ec6e4c4093815f171ce19e8dcbd3f3f9ceb9a14c80d8da698828"
   }
  }
 },
 "nbformat": 4,
 "nbformat_minor": 2
}
